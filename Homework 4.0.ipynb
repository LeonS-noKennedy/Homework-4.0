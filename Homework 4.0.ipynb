{
 "cells": [
  {
   "cell_type": "markdown",
   "id": "61244a0f-85c3-43f2-8ba7-ca97b99e4ef6",
   "metadata": {},
   "source": [
    "Problem 1"
   ]
  },
  {
   "cell_type": "code",
   "execution_count": 95,
   "id": "f7b8ccb5-ec47-4f27-a819-4954464c446d",
   "metadata": {},
   "outputs": [],
   "source": [
    "import pandas as pd\n",
    "from sklearn.cluster import AgglomerativeClustering\n",
    "from sklearn.impute import SimpleImputer\n",
    "from sklearn.preprocessing import StandardScaler"
   ]
  },
  {
   "cell_type": "code",
   "execution_count": 96,
   "id": "ea89fbc5-8c61-474f-aaa7-9105026d29e6",
   "metadata": {},
   "outputs": [
    {
     "name": "stdout",
     "output_type": "stream",
     "text": [
      "    mpg  cylinders  displacement  horsepower  weight  acceleration  \\\n",
      "0  18.0          8         307.0       130.0  3504.0          12.0   \n",
      "1  15.0          8         350.0       165.0  3693.0          11.5   \n",
      "2  18.0          8         318.0       150.0  3436.0          11.0   \n",
      "3  16.0          8         304.0       150.0  3433.0          12.0   \n",
      "4  17.0          8         302.0       140.0  3449.0          10.5   \n",
      "\n",
      "   model_year  origin                   car_name  \n",
      "0          70       1  chevrolet chevelle malibu  \n",
      "1          70       1          buick skylark 320  \n",
      "2          70       1         plymouth satellite  \n",
      "3          70       1              amc rebel sst  \n",
      "4          70       1                ford torino  \n"
     ]
    }
   ],
   "source": [
    "# Load the dataset using a Pandas dataframe\n",
    "data_url = 'https://archive.ics.uci.edu/ml/machine-learning-databases/auto-mpg/auto-mpg.data'\n",
    "columns_names = ['mpg', 'cylinders', 'displacement', 'horsepower', 'weight', 'acceleration', 'model_year', 'origin', 'car_name']\n",
    "df_raw = pd.read_csv(data_url, sep='\\s+', names=columns_names, na_values='?')\n",
    "print(df_raw.head())"
   ]
  },
  {
   "cell_type": "code",
   "execution_count": 97,
   "id": "a0567b0d-4dcf-45aa-8cd7-31a9aaf7d305",
   "metadata": {},
   "outputs": [
    {
     "name": "stdout",
     "output_type": "stream",
     "text": [
      "    mpg  displacement  horsepower  weight  acceleration\n",
      "0  18.0         307.0       130.0  3504.0          12.0\n",
      "1  15.0         350.0       165.0  3693.0          11.5\n",
      "2  18.0         318.0       150.0  3436.0          11.0\n",
      "3  16.0         304.0       150.0  3433.0          12.0\n",
      "4  17.0         302.0       140.0  3449.0          10.5\n"
     ]
    }
   ],
   "source": [
    "# Use only the continuous fields as features\n",
    "continuous_features = ['mpg', 'displacement', 'horsepower', 'weight', 'acceleration']\n",
    "df_continuous = df_raw[continuous_features]\n",
    "print(df_continuous.head())"
   ]
  },
  {
   "cell_type": "code",
   "execution_count": 98,
   "id": "77f8d002-829e-42a1-9120-1b5db166199d",
   "metadata": {},
   "outputs": [
    {
     "name": "stdout",
     "output_type": "stream",
     "text": [
      "      mpg  displacement  horsepower  weight  acceleration\n",
      "0    18.0         307.0       130.0  3504.0          12.0\n",
      "1    15.0         350.0       165.0  3693.0          11.5\n",
      "2    18.0         318.0       150.0  3436.0          11.0\n",
      "3    16.0         304.0       150.0  3433.0          12.0\n",
      "4    17.0         302.0       140.0  3449.0          10.5\n",
      "..    ...           ...         ...     ...           ...\n",
      "393  27.0         140.0        86.0  2790.0          15.6\n",
      "394  44.0          97.0        52.0  2130.0          24.6\n",
      "395  32.0         135.0        84.0  2295.0          11.6\n",
      "396  28.0         120.0        79.0  2625.0          18.6\n",
      "397  31.0         119.0        82.0  2720.0          19.4\n",
      "\n",
      "[398 rows x 5 columns] \n",
      "\n",
      "6 missing values are imputed\n"
     ]
    }
   ],
   "source": [
    "# Impute any missing values with the mean\n",
    "imputer = SimpleImputer(strategy='mean')\n",
    "df_imputed = pd.DataFrame(imputer.fit_transform(df_continuous), columns=continuous_features)\n",
    "print(df_imputed, '\\n')\n",
    "print(f\"{df_continuous.isnull().sum().sum()} missing values are imputed\")"
   ]
  },
  {
   "cell_type": "code",
   "execution_count": 99,
   "id": "dd7b8d35-a3f7-443c-a383-82ae7e8b2371",
   "metadata": {},
   "outputs": [
    {
     "name": "stdout",
     "output_type": "stream",
     "text": [
      "          mpg  displacement  horsepower    weight  acceleration  cluster\n",
      "0   -0.706439      1.090604    0.669196  0.630870     -1.295498        1\n",
      "1   -1.090751      1.503514    1.586599  0.854333     -1.477038        1\n",
      "2   -0.706439      1.196232    1.193426  0.550470     -1.658577        1\n",
      "3   -0.962647      1.061796    1.193426  0.546923     -1.295498        1\n",
      "4   -0.834543      1.042591    0.931311  0.565841     -1.840117        1\n",
      "..        ...           ...         ...       ...           ...      ...\n",
      "393  0.446497     -0.513026   -0.484111 -0.213324      0.011586        0\n",
      "394  2.624265     -0.925936   -1.375302 -0.993671      3.279296        2\n",
      "395  1.087017     -0.561039   -0.536534 -0.798585     -1.440730        0\n",
      "396  0.574601     -0.705077   -0.667591 -0.408411      1.100822        0\n",
      "397  0.958913     -0.714680   -0.588957 -0.296088      1.391285        0\n",
      "\n",
      "[398 rows x 6 columns]\n"
     ]
    }
   ],
   "source": [
    "# Perform Hierarchical Clustering\n",
    "scaler = StandardScaler()\n",
    "df = pd.DataFrame(scaler.fit_transform(df_imputed), columns=continuous_features)\n",
    "\n",
    "clustering = AgglomerativeClustering(n_clusters=3, linkage='average', metric='euclidean')\n",
    "df['cluster'] = clustering.fit_predict(df)\n",
    "print(df)"
   ]
  },
  {
   "cell_type": "code",
   "execution_count": 103,
   "id": "2ada4734-991f-487c-997c-a575787ecbb2",
   "metadata": {},
   "outputs": [
    {
     "name": "stdout",
     "output_type": "stream",
     "text": [
      "Mean and Variance values for each cluster:\n",
      "              mpg           displacement           horsepower            \\\n",
      "             mean       var         mean       var       mean       var   \n",
      "cluster                                                                   \n",
      "0        0.341124  0.677814    -0.471690  0.323792  -0.471242  0.202864   \n",
      "1       -1.151105  0.078296     1.484507  0.192671   1.502830  0.463119   \n",
      "2        2.585833  0.004923    -0.976350  0.001130  -1.453937  0.002748   \n",
      "\n",
      "           weight           acceleration            \n",
      "             mean       var         mean       var  \n",
      "cluster                                             \n",
      "0       -0.439845  0.418150     0.311340  0.642682  \n",
      "1        1.387534  0.270986    -1.062679  0.420519  \n",
      "2       -0.989238  0.030297     2.652985  0.304409   \n",
      "\n",
      "Mean and Variance values for classes using origin as a label:\n",
      "             mpg           displacement           horsepower            \\\n",
      "            mean       var         mean       var       mean       var   \n",
      "origin                                                                   \n",
      "1      -0.439530  0.672787     0.503902  0.894672   0.376014  1.078337   \n",
      "2       0.560693  0.741945    -0.809334  0.047022  -0.608826  0.282141   \n",
      "3       0.888537  0.608649    -0.871117  0.049375  -0.645693  0.218153   \n",
      "\n",
      "          weight           acceleration            \n",
      "            mean       var         mean       var  \n",
      "origin                                             \n",
      "1       0.462896  0.883071    -0.194013  0.997742  \n",
      "2      -0.646890  0.335704     0.442612  1.222848  \n",
      "3      -0.885809  0.143594     0.219322  0.503811   \n",
      "\n",
      "Crosstab:\n",
      "origin     1   2   3\n",
      "cluster             \n",
      "0        152  66  79\n",
      "1         97   0   0\n",
      "2          0   4   0\n"
     ]
    }
   ],
   "source": [
    "# Obtain the mean and variance values for each cluster & compare\n",
    "cluster_stats = df.groupby('cluster')[continuous_features].agg(['mean', 'var'])\n",
    "print(\"Mean and Variance values for each cluster:\")\n",
    "print(cluster_stats, '\\n')\n",
    "\n",
    "df['origin'] = df_raw['origin']\n",
    "origin_stats = df.groupby('origin')[continuous_features].agg(['mean', 'var'])\n",
    "print(\"Mean and Variance values for classes using origin as a label:\")\n",
    "print(origin_stats, '\\n')\n",
    "\n",
    "crosstab = pd.crosstab(df['cluster'], df['origin'])\n",
    "print('Crosstab:')\n",
    "print(crosstab)"
   ]
  },
  {
   "cell_type": "code",
   "execution_count": null,
   "id": "60890336-3274-43bc-82e9-e55c2f279e5f",
   "metadata": {},
   "outputs": [],
   "source": []
  },
  {
   "cell_type": "markdown",
   "id": "00a25cf6-7ab9-436f-b9fc-06fe7f807412",
   "metadata": {},
   "source": [
    "Problem 2"
   ]
  },
  {
   "cell_type": "code",
   "execution_count": 105,
   "id": "5a751789-80fb-4d1b-bcbc-d52d94d2193f",
   "metadata": {},
   "outputs": [],
   "source": [
    "import pandas as pd\n",
    "from sklearn.datasets import fetch_openml\n",
    "from sklearn.preprocessing import StandardScaler\n",
    "from sklearn.cluster import KMeans\n",
    "from sklearn.metrics import silhouette_score"
   ]
  },
  {
   "cell_type": "code",
   "execution_count": 106,
   "id": "62314042-254e-4e36-986f-2b19bc83dc61",
   "metadata": {},
   "outputs": [
    {
     "name": "stdout",
     "output_type": "stream",
     "text": [
      "      CRIM    ZN  INDUS  CHAS    NOX     RM   AGE     DIS  RAD    TAX  \\\n",
      "0  0.00632  18.0   2.31     0  0.538  6.575  65.2  4.0900    1  296.0   \n",
      "1  0.02731   0.0   7.07     0  0.469  6.421  78.9  4.9671    2  242.0   \n",
      "2  0.02729   0.0   7.07     0  0.469  7.185  61.1  4.9671    2  242.0   \n",
      "3  0.03237   0.0   2.18     0  0.458  6.998  45.8  6.0622    3  222.0   \n",
      "4  0.06905   0.0   2.18     0  0.458  7.147  54.2  6.0622    3  222.0   \n",
      "\n",
      "   PTRATIO       B  LSTAT  \n",
      "0     15.3  396.90   4.98  \n",
      "1     17.8  396.90   9.14  \n",
      "2     17.8  392.83   4.03  \n",
      "3     18.7  394.63   2.94  \n",
      "4     18.7  396.90   5.33  \n"
     ]
    }
   ],
   "source": [
    "# Load the Boston dataset using a Pandas dataframe\n",
    "boston = fetch_openml(name='boston', version=1, parser='auto')\n",
    "features = boston.feature_names\n",
    "df_raw = pd.DataFrame(boston.data, columns=boston.feature_names)\n",
    "df_raw = df_raw.apply(pd.to_numeric, errors='coerce')\n",
    "print(df_raw.head())"
   ]
  },
  {
   "cell_type": "code",
   "execution_count": 107,
   "id": "93c081a8-d7c5-490b-a095-74dcca69a39e",
   "metadata": {},
   "outputs": [
    {
     "name": "stdout",
     "output_type": "stream",
     "text": [
      "k = 2: sihouette score = 0.3601\n",
      "k = 3: sihouette score = 0.2575\n",
      "k = 4: sihouette score = 0.2898\n",
      "k = 5: sihouette score = 0.2878\n",
      "k = 6: sihouette score = 0.2625\n",
      "\n",
      "The optimal k is 2, its silhouette score is 0.3601\n"
     ]
    }
   ],
   "source": [
    "# Perform a K-Means analysis on scaled data with different numbers of clusters\n",
    "scaler = StandardScaler()\n",
    "df_scaled = scaler.fit_transform(df_raw)\n",
    "\n",
    "s_scores = []\n",
    "for k in range(2,7):\n",
    "    km = KMeans(n_clusters=k, random_state=42, n_init=10)\n",
    "    labels = km.fit_predict(df_scaled)\n",
    "\n",
    "# Provide the Silhouette score to justify which value of k is optimal\n",
    "    s_score = silhouette_score(df_scaled, labels)\n",
    "    s_scores.append([k, s_score])\n",
    "    print(f'k = {k}: sihouette score = {s_score:.4f}')\n",
    "\n",
    "opt_k = max(s_scores, key=lambda x:x[1])[0]\n",
    "opt_score = max(s_scores, key=lambda x:x[1])[1]\n",
    "print(f'\\nThe optimal k is {opt_k}, its silhouette score is {opt_score:.4f}')"
   ]
  },
  {
   "cell_type": "code",
   "execution_count": 108,
   "id": "035d0cda-975a-4eae-a015-5d058e3dc7cc",
   "metadata": {},
   "outputs": [
    {
     "name": "stdout",
     "output_type": "stream",
     "text": [
      "Means of each clusters:\n",
      "             CRIM         ZN      INDUS      CHAS       NOX        RM  \\\n",
      "cluster                                                                 \n",
      "0        0.261172  17.477204   6.885046  0.069909  0.487011  6.455422   \n",
      "1        9.844730   0.000000  19.039718  0.067797  0.680503  5.967181   \n",
      "\n",
      "               AGE       DIS        RAD         TAX    PTRATIO           B  \\\n",
      "cluster                                                                      \n",
      "0        56.339210  4.756868   4.471125  301.917933  17.837386  386.447872   \n",
      "1        91.318079  2.007242  18.988701  605.858757  19.604520  301.331695   \n",
      "\n",
      "             LSTAT  \n",
      "cluster             \n",
      "0         9.468298  \n",
      "1        18.572768  \n"
     ]
    }
   ],
   "source": [
    "# Calculate the mean values for all features\n",
    "opt_km = KMeans(n_clusters=opt_k, random_state=42, n_init=10).fit(df_scaled)\n",
    "df = df_raw\n",
    "df['cluster'] = opt_km.fit_predict(df_scaled)\n",
    "cluster_means = df.groupby('cluster')[features].mean()\n",
    "print(\"Means of each clusters:\")\n",
    "print(cluster_means)"
   ]
  },
  {
   "cell_type": "code",
   "execution_count": 109,
   "id": "4eabdf9d-03aa-4906-ab0e-af4faec5cf21",
   "metadata": {},
   "outputs": [
    {
     "name": "stdout",
     "output_type": "stream",
     "text": [
      "\n",
      " cluster 0:\n",
      "CRIM       5.551115e-16\n",
      "ZN        -3.552714e-15\n",
      "INDUS     -2.664535e-15\n",
      "CHAS       6.938894e-17\n",
      "NOX       -5.551115e-17\n",
      "RM         0.000000e+00\n",
      "AGE       -7.105427e-15\n",
      "DIS        0.000000e+00\n",
      "RAD        2.664535e-15\n",
      "TAX        0.000000e+00\n",
      "PTRATIO    0.000000e+00\n",
      "B          5.684342e-14\n",
      "LSTAT      0.000000e+00\n",
      "Name: 0, dtype: float64\n",
      "\n",
      " cluster 1:\n",
      "CRIM      -1.776357e-15\n",
      "ZN        -1.243450e-14\n",
      "INDUS     -7.105427e-15\n",
      "CHAS       5.551115e-17\n",
      "NOX       -1.110223e-16\n",
      "RM         0.000000e+00\n",
      "AGE       -1.421085e-14\n",
      "DIS        0.000000e+00\n",
      "RAD       -7.105427e-15\n",
      "TAX       -6.821210e-13\n",
      "PTRATIO    0.000000e+00\n",
      "B          0.000000e+00\n",
      "LSTAT      0.000000e+00\n",
      "Name: 1, dtype: float64\n"
     ]
    }
   ],
   "source": [
    "# How the mean values differ from the centroid coordinates\n",
    "centroid_original = pd.DataFrame(scaler.inverse_transform(opt_km.cluster_centers_), columns=features)\n",
    "for cluster in range(opt_k):\n",
    "    print(f'\\n cluster {cluster}:')\n",
    "    print(cluster_means.loc[cluster] - centroid_original.loc[cluster])"
   ]
  },
  {
   "cell_type": "code",
   "execution_count": null,
   "id": "5d9ef24c-1e30-4981-808a-f186693954ae",
   "metadata": {},
   "outputs": [],
   "source": []
  },
  {
   "cell_type": "markdown",
   "id": "be42ce13-2c7d-41a0-bc4b-49b2425e8b96",
   "metadata": {},
   "source": [
    "Problem 3"
   ]
  },
  {
   "cell_type": "code",
   "execution_count": 89,
   "id": "3d565a19-6804-4e88-adec-fba657bfe3b9",
   "metadata": {},
   "outputs": [],
   "source": [
    "import pandas as pd\n",
    "from sklearn.datasets import load_wine\n",
    "from sklearn.preprocessing import StandardScaler\n",
    "from sklearn.cluster import KMeans\n",
    "from sklearn.metrics import homogeneity_score, completeness_score"
   ]
  },
  {
   "cell_type": "code",
   "execution_count": 90,
   "id": "bb036096-1aaa-4a19-922a-98b19f302ff1",
   "metadata": {},
   "outputs": [
    {
     "name": "stdout",
     "output_type": "stream",
     "text": [
      "   alcohol  malic_acid   ash  alcalinity_of_ash  magnesium  total_phenols  \\\n",
      "0    14.23        1.71  2.43               15.6      127.0           2.80   \n",
      "1    13.20        1.78  2.14               11.2      100.0           2.65   \n",
      "2    13.16        2.36  2.67               18.6      101.0           2.80   \n",
      "3    14.37        1.95  2.50               16.8      113.0           3.85   \n",
      "4    13.24        2.59  2.87               21.0      118.0           2.80   \n",
      "\n",
      "   flavanoids  nonflavanoid_phenols  proanthocyanins  color_intensity   hue  \\\n",
      "0        3.06                  0.28             2.29             5.64  1.04   \n",
      "1        2.76                  0.26             1.28             4.38  1.05   \n",
      "2        3.24                  0.30             2.81             5.68  1.03   \n",
      "3        3.49                  0.24             2.18             7.80  0.86   \n",
      "4        2.69                  0.39             1.82             4.32  1.04   \n",
      "\n",
      "   od280/od315_of_diluted_wines  proline  true_label  \n",
      "0                          3.92   1065.0           0  \n",
      "1                          3.40   1050.0           0  \n",
      "2                          3.17   1185.0           0  \n",
      "3                          3.45   1480.0           0  \n",
      "4                          2.93    735.0           0  \n"
     ]
    }
   ],
   "source": [
    "# Load the wine dataset using a Pandas dataframe\n",
    "wine = load_wine()\n",
    "features = wine.feature_names\n",
    "df_raw = pd.DataFrame(wine.data, columns=features)\n",
    "df_raw['true_label'] = wine.target\n",
    "print(df_raw.head())"
   ]
  },
  {
   "cell_type": "code",
   "execution_count": 91,
   "id": "acc5be4c-12de-46a7-bed8-7298b363154e",
   "metadata": {},
   "outputs": [
    {
     "name": "stdout",
     "output_type": "stream",
     "text": [
      "     alcohol  malic_acid   ash  alcalinity_of_ash  magnesium  total_phenols  \\\n",
      "0      14.23        1.71  2.43               15.6      127.0           2.80   \n",
      "1      13.20        1.78  2.14               11.2      100.0           2.65   \n",
      "2      13.16        2.36  2.67               18.6      101.0           2.80   \n",
      "3      14.37        1.95  2.50               16.8      113.0           3.85   \n",
      "4      13.24        2.59  2.87               21.0      118.0           2.80   \n",
      "..       ...         ...   ...                ...        ...            ...   \n",
      "173    13.71        5.65  2.45               20.5       95.0           1.68   \n",
      "174    13.40        3.91  2.48               23.0      102.0           1.80   \n",
      "175    13.27        4.28  2.26               20.0      120.0           1.59   \n",
      "176    13.17        2.59  2.37               20.0      120.0           1.65   \n",
      "177    14.13        4.10  2.74               24.5       96.0           2.05   \n",
      "\n",
      "     flavanoids  nonflavanoid_phenols  proanthocyanins  color_intensity   hue  \\\n",
      "0          3.06                  0.28             2.29             5.64  1.04   \n",
      "1          2.76                  0.26             1.28             4.38  1.05   \n",
      "2          3.24                  0.30             2.81             5.68  1.03   \n",
      "3          3.49                  0.24             2.18             7.80  0.86   \n",
      "4          2.69                  0.39             1.82             4.32  1.04   \n",
      "..          ...                   ...              ...              ...   ...   \n",
      "173        0.61                  0.52             1.06             7.70  0.64   \n",
      "174        0.75                  0.43             1.41             7.30  0.70   \n",
      "175        0.69                  0.43             1.35            10.20  0.59   \n",
      "176        0.68                  0.53             1.46             9.30  0.60   \n",
      "177        0.76                  0.56             1.35             9.20  0.61   \n",
      "\n",
      "     od280/od315_of_diluted_wines  proline  true_label  cluster  \n",
      "0                            3.92   1065.0           0        1  \n",
      "1                            3.40   1050.0           0        1  \n",
      "2                            3.17   1185.0           0        1  \n",
      "3                            3.45   1480.0           0        1  \n",
      "4                            2.93    735.0           0        1  \n",
      "..                            ...      ...         ...      ...  \n",
      "173                          1.74    740.0           2        0  \n",
      "174                          1.56    750.0           2        0  \n",
      "175                          1.56    835.0           2        0  \n",
      "176                          1.62    840.0           2        0  \n",
      "177                          1.60    560.0           2        0  \n",
      "\n",
      "[178 rows x 15 columns]\n"
     ]
    }
   ],
   "source": [
    "# Perform a K-Means analysis on scaled data, with the number of clusters set to 3\n",
    "scaler = StandardScaler()\n",
    "df_scaled = scaler.fit_transform(df_raw[features])\n",
    "\n",
    "km = KMeans(n_clusters=3, random_state=42, n_init=10)\n",
    "df = df_raw\n",
    "df['cluster'] = km.fit_predict(df_scaled)\n",
    "print(df)"
   ]
  },
  {
   "cell_type": "code",
   "execution_count": 93,
   "id": "db71a7ed-3035-402a-ac11-828120164c9b",
   "metadata": {},
   "outputs": [
    {
     "name": "stdout",
     "output_type": "stream",
     "text": [
      "Homogeneity Score:0.8788\n",
      "Completeness Score:0.8730\n"
     ]
    }
   ],
   "source": [
    "# Calculate the Homogeneity/Completeness for the optimal k\n",
    "h_score = homogeneity_score(df['true_label'], df['cluster'])\n",
    "c_score = completeness_score(df['true_label'], df['cluster'])\n",
    "print(f'Homogeneity Score:{h_score:.4f}')\n",
    "print(f'Completeness Score:{c_score:.4f}')"
   ]
  },
  {
   "cell_type": "code",
   "execution_count": null,
   "id": "537b381e-2f86-443c-b145-a7457aaf6e6a",
   "metadata": {},
   "outputs": [],
   "source": []
  }
 ],
 "metadata": {
  "kernelspec": {
   "display_name": "Python 3 (ipykernel)",
   "language": "python",
   "name": "python3"
  },
  "language_info": {
   "codemirror_mode": {
    "name": "ipython",
    "version": 3
   },
   "file_extension": ".py",
   "mimetype": "text/x-python",
   "name": "python",
   "nbconvert_exporter": "python",
   "pygments_lexer": "ipython3",
   "version": "3.11.7"
  }
 },
 "nbformat": 4,
 "nbformat_minor": 5
}
